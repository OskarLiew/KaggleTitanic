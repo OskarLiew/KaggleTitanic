{
 "cells": [
  {
   "cell_type": "markdown",
   "metadata": {
    "toc-hr-collapsed": false
   },
   "source": [
    "# Titanic dataset"
   ]
  },
  {
   "cell_type": "markdown",
   "metadata": {},
   "source": [
    "## Load data and packages"
   ]
  },
  {
   "cell_type": "code",
   "execution_count": 1,
   "metadata": {},
   "outputs": [
    {
     "name": "stdout",
     "output_type": "stream",
     "text": [
      "Age             263\n",
      "Cabin          1014\n",
      "Embarked          0\n",
      "Fare              0\n",
      "Name              0\n",
      "Parch             0\n",
      "PassengerId       0\n",
      "Pclass            0\n",
      "Sex               0\n",
      "SibSp             0\n",
      "Survived        418\n",
      "Ticket            0\n",
      "dtype: int64\n"
     ]
    },
    {
     "name": "stderr",
     "output_type": "stream",
     "text": [
      "C:\\Users\\oskar\\Anaconda3\\envs\\machine_learning\\lib\\site-packages\\pandas\\core\\frame.py:7138: FutureWarning: Sorting because non-concatenation axis is not aligned. A future version\n",
      "of pandas will change to not sort by default.\n",
      "\n",
      "To accept the future behavior, pass 'sort=False'.\n",
      "\n",
      "To retain the current behavior and silence the warning, pass 'sort=True'.\n",
      "\n",
      "  sort=sort,\n"
     ]
    }
   ],
   "source": [
    "import numpy as np\n",
    "import pandas as pd\n",
    "import matplotlib.pyplot as plt\n",
    "from sklearn.linear_model import LinearRegression\n",
    "from sklearn.preprocessing import LabelEncoder\n",
    "\n",
    "data_df = pd.read_csv('./data/train.csv')\n",
    "test_df = pd.read_csv('./data/test.csv')\n",
    "\n",
    "joint_df = data_df.append(test_df)\n",
    "\n",
    "joint_df['Embarked'] = joint_df['Embarked'].fillna(joint_df['Embarked'].value_counts().index[0])\n",
    "joint_df['Fare'] = joint_df['Fare'].fillna(joint_df[joint_df['Pclass'] == 3]['Fare'].mean())\n",
    "\n",
    "joint_df['Embarked'] = joint_df['Embarked'].map( {'S' : 0, 'C' : 1, 'Q': 2} ).astype(int)\n",
    "joint_df['Sex'] = joint_df['Sex'].map( {'male': 0, 'female' : 1} ).astype(int)\n",
    "\n",
    "print(joint_df.isnull().sum())"
   ]
  },
  {
   "cell_type": "markdown",
   "metadata": {},
   "source": [
    "# Add/Change variables"
   ]
  },
  {
   "cell_type": "markdown",
   "metadata": {},
   "source": [
    "## Cabin -> Cabin deck\n",
    "Change cabin to the number of the deck it was in or missing if it is unknown"
   ]
  },
  {
   "cell_type": "code",
   "execution_count": 2,
   "metadata": {},
   "outputs": [
    {
     "data": {
      "text/plain": [
       "Age            float64\n",
       "Cabin            int64\n",
       "Embarked         int32\n",
       "Fare           float64\n",
       "Name            object\n",
       "Parch            int64\n",
       "PassengerId      int64\n",
       "Pclass           int64\n",
       "Sex              int32\n",
       "SibSp            int64\n",
       "Survived       float64\n",
       "Ticket          object\n",
       "dtype: object"
      ]
     },
     "execution_count": 2,
     "metadata": {},
     "output_type": "execute_result"
    }
   ],
   "source": [
    "cabins = joint_df[joint_df['Cabin'].notnull()]['Cabin'].to_numpy()\n",
    "cabin_deck = []\n",
    "for cabin in cabins:\n",
    "    cabin_deck.append(cabin[0])\n",
    "cabins = joint_df['Cabin'].fillna('Missing').to_numpy()\n",
    "cabins[cabins != 'Missing'] = cabin_deck\n",
    "joint_df['Cabin'] = cabins\n",
    "joint_df['Cabin'] = joint_df['Cabin'].map( {'Missing' : 0, 'T' : 0, 'A': 1, 'G' : 1, 'F' : 1, 'B' : 2, 'C' : 2, 'D': 2, 'E': 2} )\n",
    "\n",
    "joint_df.head()\n",
    "joint_df.dtypes"
   ]
  },
  {
   "cell_type": "code",
   "execution_count": 3,
   "metadata": {},
   "outputs": [
    {
     "data": {
      "text/html": [
       "<div>\n",
       "<style scoped>\n",
       "    .dataframe tbody tr th:only-of-type {\n",
       "        vertical-align: middle;\n",
       "    }\n",
       "\n",
       "    .dataframe tbody tr th {\n",
       "        vertical-align: top;\n",
       "    }\n",
       "\n",
       "    .dataframe thead th {\n",
       "        text-align: right;\n",
       "    }\n",
       "</style>\n",
       "<table border=\"1\" class=\"dataframe\">\n",
       "  <thead>\n",
       "    <tr style=\"text-align: right;\">\n",
       "      <th>Survived</th>\n",
       "      <th>0.0</th>\n",
       "      <th>1.0</th>\n",
       "    </tr>\n",
       "    <tr>\n",
       "      <th>Cabin</th>\n",
       "      <th></th>\n",
       "      <th></th>\n",
       "    </tr>\n",
       "  </thead>\n",
       "  <tbody>\n",
       "    <tr>\n",
       "      <th>0</th>\n",
       "      <td>482</td>\n",
       "      <td>206</td>\n",
       "    </tr>\n",
       "    <tr>\n",
       "      <th>1</th>\n",
       "      <td>15</td>\n",
       "      <td>17</td>\n",
       "    </tr>\n",
       "    <tr>\n",
       "      <th>2</th>\n",
       "      <td>52</td>\n",
       "      <td>119</td>\n",
       "    </tr>\n",
       "  </tbody>\n",
       "</table>\n",
       "</div>"
      ],
      "text/plain": [
       "Survived  0.0  1.0\n",
       "Cabin             \n",
       "0         482  206\n",
       "1          15   17\n",
       "2          52  119"
      ]
     },
     "execution_count": 3,
     "metadata": {},
     "output_type": "execute_result"
    }
   ],
   "source": [
    "pd.crosstab(joint_df['Cabin'], joint_df['Survived'])"
   ]
  },
  {
   "cell_type": "markdown",
   "metadata": {},
   "source": [
    "## Name -> Title"
   ]
  },
  {
   "cell_type": "code",
   "execution_count": 4,
   "metadata": {},
   "outputs": [
    {
     "data": {
      "text/html": [
       "<div>\n",
       "<style scoped>\n",
       "    .dataframe tbody tr th:only-of-type {\n",
       "        vertical-align: middle;\n",
       "    }\n",
       "\n",
       "    .dataframe tbody tr th {\n",
       "        vertical-align: top;\n",
       "    }\n",
       "\n",
       "    .dataframe thead th {\n",
       "        text-align: right;\n",
       "    }\n",
       "</style>\n",
       "<table border=\"1\" class=\"dataframe\">\n",
       "  <thead>\n",
       "    <tr style=\"text-align: right;\">\n",
       "      <th>Sex</th>\n",
       "      <th>0</th>\n",
       "      <th>1</th>\n",
       "    </tr>\n",
       "    <tr>\n",
       "      <th>Title</th>\n",
       "      <th></th>\n",
       "      <th></th>\n",
       "    </tr>\n",
       "  </thead>\n",
       "  <tbody>\n",
       "    <tr>\n",
       "      <th>Capt</th>\n",
       "      <td>1</td>\n",
       "      <td>0</td>\n",
       "    </tr>\n",
       "    <tr>\n",
       "      <th>Col</th>\n",
       "      <td>4</td>\n",
       "      <td>0</td>\n",
       "    </tr>\n",
       "    <tr>\n",
       "      <th>Countess</th>\n",
       "      <td>0</td>\n",
       "      <td>1</td>\n",
       "    </tr>\n",
       "    <tr>\n",
       "      <th>Don</th>\n",
       "      <td>1</td>\n",
       "      <td>0</td>\n",
       "    </tr>\n",
       "    <tr>\n",
       "      <th>Dona</th>\n",
       "      <td>0</td>\n",
       "      <td>1</td>\n",
       "    </tr>\n",
       "    <tr>\n",
       "      <th>Dr</th>\n",
       "      <td>7</td>\n",
       "      <td>1</td>\n",
       "    </tr>\n",
       "    <tr>\n",
       "      <th>Jonkheer</th>\n",
       "      <td>1</td>\n",
       "      <td>0</td>\n",
       "    </tr>\n",
       "    <tr>\n",
       "      <th>Lady</th>\n",
       "      <td>0</td>\n",
       "      <td>1</td>\n",
       "    </tr>\n",
       "    <tr>\n",
       "      <th>Major</th>\n",
       "      <td>2</td>\n",
       "      <td>0</td>\n",
       "    </tr>\n",
       "    <tr>\n",
       "      <th>Master</th>\n",
       "      <td>61</td>\n",
       "      <td>0</td>\n",
       "    </tr>\n",
       "    <tr>\n",
       "      <th>Miss</th>\n",
       "      <td>0</td>\n",
       "      <td>260</td>\n",
       "    </tr>\n",
       "    <tr>\n",
       "      <th>Mlle</th>\n",
       "      <td>0</td>\n",
       "      <td>2</td>\n",
       "    </tr>\n",
       "    <tr>\n",
       "      <th>Mme</th>\n",
       "      <td>0</td>\n",
       "      <td>1</td>\n",
       "    </tr>\n",
       "    <tr>\n",
       "      <th>Mr</th>\n",
       "      <td>757</td>\n",
       "      <td>0</td>\n",
       "    </tr>\n",
       "    <tr>\n",
       "      <th>Mrs</th>\n",
       "      <td>0</td>\n",
       "      <td>197</td>\n",
       "    </tr>\n",
       "    <tr>\n",
       "      <th>Ms</th>\n",
       "      <td>0</td>\n",
       "      <td>2</td>\n",
       "    </tr>\n",
       "    <tr>\n",
       "      <th>Rev</th>\n",
       "      <td>8</td>\n",
       "      <td>0</td>\n",
       "    </tr>\n",
       "    <tr>\n",
       "      <th>Sir</th>\n",
       "      <td>1</td>\n",
       "      <td>0</td>\n",
       "    </tr>\n",
       "  </tbody>\n",
       "</table>\n",
       "</div>"
      ],
      "text/plain": [
       "Sex         0    1\n",
       "Title             \n",
       "Capt        1    0\n",
       "Col         4    0\n",
       "Countess    0    1\n",
       "Don         1    0\n",
       "Dona        0    1\n",
       "Dr          7    1\n",
       "Jonkheer    1    0\n",
       "Lady        0    1\n",
       "Major       2    0\n",
       "Master     61    0\n",
       "Miss        0  260\n",
       "Mlle        0    2\n",
       "Mme         0    1\n",
       "Mr        757    0\n",
       "Mrs         0  197\n",
       "Ms          0    2\n",
       "Rev         8    0\n",
       "Sir         1    0"
      ]
     },
     "execution_count": 4,
     "metadata": {},
     "output_type": "execute_result"
    }
   ],
   "source": [
    "joint_df['Title'] = joint_df['Name'].str.extract(' ([A-Za-z]+)\\.', expand = False)    \n",
    "    \n",
    "pd.crosstab(joint_df['Title'], joint_df['Sex'])"
   ]
  },
  {
   "cell_type": "code",
   "execution_count": 5,
   "metadata": {},
   "outputs": [
    {
     "data": {
      "text/html": [
       "<div>\n",
       "<style scoped>\n",
       "    .dataframe tbody tr th:only-of-type {\n",
       "        vertical-align: middle;\n",
       "    }\n",
       "\n",
       "    .dataframe tbody tr th {\n",
       "        vertical-align: top;\n",
       "    }\n",
       "\n",
       "    .dataframe thead th {\n",
       "        text-align: right;\n",
       "    }\n",
       "</style>\n",
       "<table border=\"1\" class=\"dataframe\">\n",
       "  <thead>\n",
       "    <tr style=\"text-align: right;\">\n",
       "      <th></th>\n",
       "      <th>Title</th>\n",
       "      <th>Survived</th>\n",
       "    </tr>\n",
       "  </thead>\n",
       "  <tbody>\n",
       "    <tr>\n",
       "      <th>0</th>\n",
       "      <td>0</td>\n",
       "      <td>0.702703</td>\n",
       "    </tr>\n",
       "    <tr>\n",
       "      <th>1</th>\n",
       "      <td>1</td>\n",
       "      <td>0.793651</td>\n",
       "    </tr>\n",
       "    <tr>\n",
       "      <th>2</th>\n",
       "      <td>2</td>\n",
       "      <td>0.156673</td>\n",
       "    </tr>\n",
       "    <tr>\n",
       "      <th>3</th>\n",
       "      <td>3</td>\n",
       "      <td>0.575000</td>\n",
       "    </tr>\n",
       "    <tr>\n",
       "      <th>4</th>\n",
       "      <td>4</td>\n",
       "      <td>0.347826</td>\n",
       "    </tr>\n",
       "  </tbody>\n",
       "</table>\n",
       "</div>"
      ],
      "text/plain": [
       "   Title  Survived\n",
       "0      0  0.702703\n",
       "1      1  0.793651\n",
       "2      2  0.156673\n",
       "3      3  0.575000\n",
       "4      4  0.347826"
      ]
     },
     "execution_count": 5,
     "metadata": {},
     "output_type": "execute_result"
    }
   ],
   "source": [
    "joint_df['Title'] = joint_df['Title'].replace(['Capt', 'Col', 'Countess', 'Don', 'Dr', 'Jonkheer', 'Lady', 'Major', 'Dona', 'Rev', 'Sir'], 'Rare')\n",
    "joint_df['Title'] = joint_df['Title'].replace(['Mlle', 'Ms'], 'Miss')\n",
    "joint_df['Title'] = joint_df['Title'].replace('Mme', 'Mrs')\n",
    "    \n",
    "joint_df['Title'] = joint_df['Title'].map( {'Miss' : 0, 'Mrs' : 1, 'Mr' : 2, 'Master': 3, 'Rare': 4} )\n",
    "joint_df.drop(['Name', 'Ticket'], axis = 1, inplace = True)\n",
    "joint_df[['Title', 'Survived']].groupby(['Title'], as_index=False).mean()"
   ]
  },
  {
   "cell_type": "markdown",
   "metadata": {},
   "source": [
    "## SibSP and Parch -> Family"
   ]
  },
  {
   "cell_type": "code",
   "execution_count": 6,
   "metadata": {},
   "outputs": [
    {
     "data": {
      "text/html": [
       "<div>\n",
       "<style scoped>\n",
       "    .dataframe tbody tr th:only-of-type {\n",
       "        vertical-align: middle;\n",
       "    }\n",
       "\n",
       "    .dataframe tbody tr th {\n",
       "        vertical-align: top;\n",
       "    }\n",
       "\n",
       "    .dataframe thead th {\n",
       "        text-align: right;\n",
       "    }\n",
       "</style>\n",
       "<table border=\"1\" class=\"dataframe\">\n",
       "  <thead>\n",
       "    <tr style=\"text-align: right;\">\n",
       "      <th></th>\n",
       "      <th>Family</th>\n",
       "      <th>Survived</th>\n",
       "    </tr>\n",
       "  </thead>\n",
       "  <tbody>\n",
       "    <tr>\n",
       "      <th>0</th>\n",
       "      <td>0</td>\n",
       "      <td>0.303538</td>\n",
       "    </tr>\n",
       "    <tr>\n",
       "      <th>1</th>\n",
       "      <td>1</td>\n",
       "      <td>0.552795</td>\n",
       "    </tr>\n",
       "    <tr>\n",
       "      <th>2</th>\n",
       "      <td>2</td>\n",
       "      <td>0.578431</td>\n",
       "    </tr>\n",
       "    <tr>\n",
       "      <th>3</th>\n",
       "      <td>3</td>\n",
       "      <td>0.724138</td>\n",
       "    </tr>\n",
       "    <tr>\n",
       "      <th>4</th>\n",
       "      <td>4</td>\n",
       "      <td>0.200000</td>\n",
       "    </tr>\n",
       "    <tr>\n",
       "      <th>5</th>\n",
       "      <td>5</td>\n",
       "      <td>0.148936</td>\n",
       "    </tr>\n",
       "  </tbody>\n",
       "</table>\n",
       "</div>"
      ],
      "text/plain": [
       "   Family  Survived\n",
       "0       0  0.303538\n",
       "1       1  0.552795\n",
       "2       2  0.578431\n",
       "3       3  0.724138\n",
       "4       4  0.200000\n",
       "5       5  0.148936"
      ]
     },
     "execution_count": 6,
     "metadata": {},
     "output_type": "execute_result"
    }
   ],
   "source": [
    "joint_df['Family'] = joint_df['SibSp'] + joint_df['Parch']\n",
    "joint_df['Family'].values[joint_df['Family'].values > 4] = 5\n",
    "\n",
    "joint_df[['Family', 'Survived']].groupby(['Family'], as_index=False).mean()"
   ]
  },
  {
   "cell_type": "markdown",
   "metadata": {},
   "source": [
    "## Create age categories"
   ]
  },
  {
   "cell_type": "code",
   "execution_count": 7,
   "metadata": {},
   "outputs": [],
   "source": [
    "joint_df.loc[joint_df['Age'] <= 15, 'Age'] = 0\n",
    "joint_df.loc[(joint_df['Age'] > 15) & (joint_df['Age'] <= 30), 'Age'] = 1\n",
    "joint_df.loc[(joint_df['Age'] > 30) & (joint_df['Age'] <= 45), 'Age'] = 2\n",
    "joint_df.loc[(joint_df['Age'] > 45) & (joint_df['Age'] <= 60), 'Age'] = 3\n",
    "joint_df.loc[(joint_df['Age'] > 60), 'Age'] = 4"
   ]
  },
  {
   "cell_type": "markdown",
   "metadata": {},
   "source": [
    "# Replace Null Values"
   ]
  },
  {
   "cell_type": "code",
   "execution_count": 8,
   "metadata": {},
   "outputs": [],
   "source": [
    "#joint_df[['Pclass', 'Age', 'Sex']].groupby(['Pclass'], as_index = False).mean().sort_values(by = 'Age')#\n",
    "#\n",
    "#avg_age = {}\n",
    "#for pclass in '123':\n",
    "#    for sex in '01':\n",
    "#        x = np.logical_and(joint_df['Pclass'] == int(pclass), joint_df['Sex'] == int(sex))       \n",
    "#        mean = joint_df[x]['Age'].mean()\n",
    "#        joint_df.loc[x, 'Age'] = joint_df.loc[x, 'Age'].fillna(mean)\n",
    "\n",
    "from sklearn.neighbors import KNeighborsClassifier\n",
    "\n",
    "null_age = joint_df[joint_df['Age'].isnull()]\n",
    "known_age = joint_df[joint_df['Age'].notnull()]\n",
    "\n",
    "knn = KNeighborsClassifier(n_neighbors = 10)\n",
    "knn.fit(known_age[['Sex', 'Pclass', 'Parch', 'SibSp', 'Title', 'Fare']], known_age['Age'])\n",
    "predicted_ages = knn.predict(null_age[['Sex', 'Pclass', 'Parch', 'SibSp', 'Title', 'Fare']])\n",
    "\n",
    "joint_df.loc[joint_df['Age'].isnull(), 'Age'] = predicted_ages"
   ]
  },
  {
   "cell_type": "markdown",
   "metadata": {},
   "source": [
    "# Training/Validation/Training Split"
   ]
  },
  {
   "cell_type": "code",
   "execution_count": 9,
   "metadata": {},
   "outputs": [
    {
     "name": "stderr",
     "output_type": "stream",
     "text": [
      "C:\\Users\\oskar\\Anaconda3\\envs\\machine_learning\\lib\\site-packages\\pandas\\core\\frame.py:4117: SettingWithCopyWarning: \n",
      "A value is trying to be set on a copy of a slice from a DataFrame\n",
      "\n",
      "See the caveats in the documentation: http://pandas.pydata.org/pandas-docs/stable/user_guide/indexing.html#returning-a-view-versus-a-copy\n",
      "  errors=errors,\n"
     ]
    },
    {
     "data": {
      "text/html": [
       "<div>\n",
       "<style scoped>\n",
       "    .dataframe tbody tr th:only-of-type {\n",
       "        vertical-align: middle;\n",
       "    }\n",
       "\n",
       "    .dataframe tbody tr th {\n",
       "        vertical-align: top;\n",
       "    }\n",
       "\n",
       "    .dataframe thead th {\n",
       "        text-align: right;\n",
       "    }\n",
       "</style>\n",
       "<table border=\"1\" class=\"dataframe\">\n",
       "  <thead>\n",
       "    <tr style=\"text-align: right;\">\n",
       "      <th></th>\n",
       "      <th>Age</th>\n",
       "      <th>Cabin</th>\n",
       "      <th>Embarked</th>\n",
       "      <th>Fare</th>\n",
       "      <th>Parch</th>\n",
       "      <th>PassengerId</th>\n",
       "      <th>Pclass</th>\n",
       "      <th>Sex</th>\n",
       "      <th>SibSp</th>\n",
       "      <th>Survived</th>\n",
       "      <th>Title</th>\n",
       "      <th>Family</th>\n",
       "    </tr>\n",
       "  </thead>\n",
       "  <tbody>\n",
       "    <tr>\n",
       "      <th>0</th>\n",
       "      <td>1.0</td>\n",
       "      <td>0</td>\n",
       "      <td>0</td>\n",
       "      <td>7.2500</td>\n",
       "      <td>0</td>\n",
       "      <td>1</td>\n",
       "      <td>3</td>\n",
       "      <td>0</td>\n",
       "      <td>1</td>\n",
       "      <td>0</td>\n",
       "      <td>2</td>\n",
       "      <td>1</td>\n",
       "    </tr>\n",
       "    <tr>\n",
       "      <th>1</th>\n",
       "      <td>2.0</td>\n",
       "      <td>2</td>\n",
       "      <td>1</td>\n",
       "      <td>71.2833</td>\n",
       "      <td>0</td>\n",
       "      <td>2</td>\n",
       "      <td>1</td>\n",
       "      <td>1</td>\n",
       "      <td>1</td>\n",
       "      <td>1</td>\n",
       "      <td>1</td>\n",
       "      <td>1</td>\n",
       "    </tr>\n",
       "    <tr>\n",
       "      <th>2</th>\n",
       "      <td>1.0</td>\n",
       "      <td>0</td>\n",
       "      <td>0</td>\n",
       "      <td>7.9250</td>\n",
       "      <td>0</td>\n",
       "      <td>3</td>\n",
       "      <td>3</td>\n",
       "      <td>1</td>\n",
       "      <td>0</td>\n",
       "      <td>1</td>\n",
       "      <td>0</td>\n",
       "      <td>0</td>\n",
       "    </tr>\n",
       "    <tr>\n",
       "      <th>3</th>\n",
       "      <td>2.0</td>\n",
       "      <td>2</td>\n",
       "      <td>0</td>\n",
       "      <td>53.1000</td>\n",
       "      <td>0</td>\n",
       "      <td>4</td>\n",
       "      <td>1</td>\n",
       "      <td>1</td>\n",
       "      <td>1</td>\n",
       "      <td>1</td>\n",
       "      <td>1</td>\n",
       "      <td>1</td>\n",
       "    </tr>\n",
       "    <tr>\n",
       "      <th>4</th>\n",
       "      <td>2.0</td>\n",
       "      <td>0</td>\n",
       "      <td>0</td>\n",
       "      <td>8.0500</td>\n",
       "      <td>0</td>\n",
       "      <td>5</td>\n",
       "      <td>3</td>\n",
       "      <td>0</td>\n",
       "      <td>0</td>\n",
       "      <td>0</td>\n",
       "      <td>2</td>\n",
       "      <td>0</td>\n",
       "    </tr>\n",
       "    <tr>\n",
       "      <th>...</th>\n",
       "      <td>...</td>\n",
       "      <td>...</td>\n",
       "      <td>...</td>\n",
       "      <td>...</td>\n",
       "      <td>...</td>\n",
       "      <td>...</td>\n",
       "      <td>...</td>\n",
       "      <td>...</td>\n",
       "      <td>...</td>\n",
       "      <td>...</td>\n",
       "      <td>...</td>\n",
       "      <td>...</td>\n",
       "    </tr>\n",
       "    <tr>\n",
       "      <th>886</th>\n",
       "      <td>1.0</td>\n",
       "      <td>0</td>\n",
       "      <td>0</td>\n",
       "      <td>13.0000</td>\n",
       "      <td>0</td>\n",
       "      <td>887</td>\n",
       "      <td>2</td>\n",
       "      <td>0</td>\n",
       "      <td>0</td>\n",
       "      <td>0</td>\n",
       "      <td>4</td>\n",
       "      <td>0</td>\n",
       "    </tr>\n",
       "    <tr>\n",
       "      <th>887</th>\n",
       "      <td>1.0</td>\n",
       "      <td>2</td>\n",
       "      <td>0</td>\n",
       "      <td>30.0000</td>\n",
       "      <td>0</td>\n",
       "      <td>888</td>\n",
       "      <td>1</td>\n",
       "      <td>1</td>\n",
       "      <td>0</td>\n",
       "      <td>1</td>\n",
       "      <td>0</td>\n",
       "      <td>0</td>\n",
       "    </tr>\n",
       "    <tr>\n",
       "      <th>888</th>\n",
       "      <td>1.0</td>\n",
       "      <td>0</td>\n",
       "      <td>0</td>\n",
       "      <td>23.4500</td>\n",
       "      <td>2</td>\n",
       "      <td>889</td>\n",
       "      <td>3</td>\n",
       "      <td>1</td>\n",
       "      <td>1</td>\n",
       "      <td>0</td>\n",
       "      <td>0</td>\n",
       "      <td>3</td>\n",
       "    </tr>\n",
       "    <tr>\n",
       "      <th>889</th>\n",
       "      <td>1.0</td>\n",
       "      <td>2</td>\n",
       "      <td>1</td>\n",
       "      <td>30.0000</td>\n",
       "      <td>0</td>\n",
       "      <td>890</td>\n",
       "      <td>1</td>\n",
       "      <td>0</td>\n",
       "      <td>0</td>\n",
       "      <td>1</td>\n",
       "      <td>2</td>\n",
       "      <td>0</td>\n",
       "    </tr>\n",
       "    <tr>\n",
       "      <th>890</th>\n",
       "      <td>2.0</td>\n",
       "      <td>0</td>\n",
       "      <td>2</td>\n",
       "      <td>7.7500</td>\n",
       "      <td>0</td>\n",
       "      <td>891</td>\n",
       "      <td>3</td>\n",
       "      <td>0</td>\n",
       "      <td>0</td>\n",
       "      <td>0</td>\n",
       "      <td>2</td>\n",
       "      <td>0</td>\n",
       "    </tr>\n",
       "  </tbody>\n",
       "</table>\n",
       "<p>891 rows × 12 columns</p>\n",
       "</div>"
      ],
      "text/plain": [
       "     Age  Cabin  Embarked     Fare  Parch  PassengerId  Pclass  Sex  SibSp  \\\n",
       "0    1.0      0         0   7.2500      0            1       3    0      1   \n",
       "1    2.0      2         1  71.2833      0            2       1    1      1   \n",
       "2    1.0      0         0   7.9250      0            3       3    1      0   \n",
       "3    2.0      2         0  53.1000      0            4       1    1      1   \n",
       "4    2.0      0         0   8.0500      0            5       3    0      0   \n",
       "..   ...    ...       ...      ...    ...          ...     ...  ...    ...   \n",
       "886  1.0      0         0  13.0000      0          887       2    0      0   \n",
       "887  1.0      2         0  30.0000      0          888       1    1      0   \n",
       "888  1.0      0         0  23.4500      2          889       3    1      1   \n",
       "889  1.0      2         1  30.0000      0          890       1    0      0   \n",
       "890  2.0      0         2   7.7500      0          891       3    0      0   \n",
       "\n",
       "     Survived  Title  Family  \n",
       "0           0      2       1  \n",
       "1           1      1       1  \n",
       "2           1      0       0  \n",
       "3           1      1       1  \n",
       "4           0      2       0  \n",
       "..        ...    ...     ...  \n",
       "886         0      4       0  \n",
       "887         1      0       0  \n",
       "888         0      0       3  \n",
       "889         1      2       0  \n",
       "890         0      2       0  \n",
       "\n",
       "[891 rows x 12 columns]"
      ]
     },
     "execution_count": 9,
     "metadata": {},
     "output_type": "execute_result"
    }
   ],
   "source": [
    "from sklearn.model_selection import train_test_split\n",
    "features = ['Pclass', 'Sex', 'Age', 'Fare', 'Title', 'Family']\n",
    "\n",
    "data_df = joint_df.loc[joint_df['Survived'].notnull()]\n",
    "test_df = joint_df.loc[joint_df['Survived'].isnull()]\n",
    "\n",
    "data_df = data_df.astype({'Survived': np.int32})\n",
    "test_df.drop('Survived', axis = 1, inplace = True)\n",
    "\n",
    "train_df, val_df = train_test_split(data_df)\n",
    "train_X = train_df[features]\n",
    "train_y = train_df['Survived']\n",
    "\n",
    "val_X = val_df[features]\n",
    "val_y = val_df['Survived']\n",
    "\n",
    "data_X = data_df[features]\n",
    "data_y = data_df['Survived']\n",
    "\n",
    "test_X = test_df[features]\n",
    "\n",
    "data_df"
   ]
  },
  {
   "cell_type": "markdown",
   "metadata": {},
   "source": [
    "# Random Forest Classifier"
   ]
  },
  {
   "cell_type": "code",
   "execution_count": 10,
   "metadata": {},
   "outputs": [
    {
     "name": "stdout",
     "output_type": "stream",
     "text": [
      "Prediction accuracy: 0.8251121076233184\n",
      "[0.09305151 0.1766821  0.09325665 0.32464111 0.20494706 0.10742156]\n"
     ]
    }
   ],
   "source": [
    "from sklearn.ensemble import RandomForestClassifier\n",
    "rf = RandomForestClassifier(n_estimators = 1000, max_depth = 10)\n",
    "rf.fit(train_X, train_y)\n",
    "predictions = rf.predict(val_X)\n",
    "\n",
    "survived = val_y.to_numpy()\n",
    "\n",
    "print('Prediction accuracy:',np.sum(predictions == survived)/predictions.shape[0])\n",
    "print(rf.feature_importances_)"
   ]
  },
  {
   "cell_type": "markdown",
   "metadata": {},
   "source": [
    "## Cross validation"
   ]
  },
  {
   "cell_type": "code",
   "execution_count": 11,
   "metadata": {},
   "outputs": [
    {
     "name": "stdout",
     "output_type": "stream",
     "text": [
      "Cross validation accuracy: 0.7921348314606742\n",
      "   Pclass  Sex  Age     Fare  Title  Family\n",
      "0       3    0  1.0   7.2500      2       1\n",
      "1       1    1  2.0  71.2833      1       1\n",
      "2       3    1  1.0   7.9250      0       0\n",
      "3       1    1  2.0  53.1000      1       1\n",
      "4       3    0  2.0   8.0500      2       0\n"
     ]
    }
   ],
   "source": [
    "from sklearn.model_selection import cross_val_score\n",
    "\n",
    "rf = RandomForestClassifier(n_estimators = 1000, max_depth = 10)\n",
    "\n",
    "print('Cross validation accuracy:', cross_val_score(rf, data_X, data_y, cv = 5).min())\n",
    "print(data_X.head())"
   ]
  },
  {
   "cell_type": "code",
   "execution_count": 12,
   "metadata": {},
   "outputs": [
    {
     "name": "stdout",
     "output_type": "stream",
     "text": [
      "0.7955056179775282\n"
     ]
    }
   ],
   "source": [
    "x = 0\n",
    "n = 10\n",
    "rf = RandomForestClassifier(n_estimators = 1000, max_depth = 10)\n",
    "for i in range(0,n):\n",
    "    print(i/n, end = '\\r')\n",
    "    x += cross_val_score(rf, data_X, data_y, cv = 5).min()\n",
    "print(x/n)"
   ]
  },
  {
   "cell_type": "markdown",
   "metadata": {},
   "source": [
    "['Pclass', 'Sex', 'Age', 'Fare', 'Title', 'Family', 'Embarked', 'Parch', 'SibSp', 'Cabin'] : 0.8272744962651434\n",
    "\n",
    "['Pclass', 'Sex', 'Age', 'Fare', 'Title', 'Family', 'Embarked', 'Cabin'] : 0.8322063900571214\n",
    "\n",
    "['Pclass', 'Sex', 'Age', 'Fare', 'Title', 'Embarked', 'Parch', 'SibSp', 'Cabin'] : 0.8300797187872699\n",
    "\n",
    "['Pclass', 'Sex', 'Age', 'Fare', 'Title', 'Family', 'Embarked'] : 0.8314330550499027\n",
    "\n",
    "['Pclass', 'Sex', 'Age', 'Fare', 'Title', 'Family', 'Cabin'] : 0.8377233067604042\n",
    "\n",
    "['Pclass', 'Sex', 'Age', 'Fare', 'Title', 'Family'] : 0.8382989140669137\n",
    "\n",
    "['Pclass', 'Sex', 'Age', 'Fare', 'Title'] : 0.8377402548490366\n",
    "\n",
    "0.8378513589856256 vs 0.8398694369468332"
   ]
  },
  {
   "cell_type": "markdown",
   "metadata": {},
   "source": [
    "## Classify on test data using all training data!"
   ]
  },
  {
   "cell_type": "code",
   "execution_count": 15,
   "metadata": {},
   "outputs": [],
   "source": [
    "from sklearn.ensemble import RandomForestClassifier\n",
    "rf = RandomForestClassifier(n_estimators = 1000, max_depth = 10)\n",
    "rf.fit(data_X, data_y)\n",
    "predictions = rf.predict(test_X)\n",
    "\n",
    "pid = test_df['PassengerId'].to_numpy()\n",
    "submission = pd.DataFrame(np.stack((pid, predictions), axis = -1), columns = ['PassengerId', 'Survived'])\n",
    "submission.to_csv('./data/rfc_submission.csv', index = False)"
   ]
  },
  {
   "cell_type": "markdown",
   "metadata": {},
   "source": [
    "# XGBoost"
   ]
  },
  {
   "cell_type": "code",
   "execution_count": 16,
   "metadata": {},
   "outputs": [
    {
     "name": "stdout",
     "output_type": "stream",
     "text": [
      "0.8565022421524664\n"
     ]
    }
   ],
   "source": [
    "from xgboost import XGBClassifier\n",
    "\n",
    "train_df, val_df = train_test_split(data_df)\n",
    "train_X = train_df[features]\n",
    "train_y = train_df['Survived']\n",
    "\n",
    "val_X = val_df[features]\n",
    "val_y = val_df['Survived']\n",
    "\n",
    "\n",
    "classifier = XGBClassifier(colsample_bylevel= 0.9,\n",
    "                    colsample_bytree = 0.8, \n",
    "                    gamma=0.99,\n",
    "                    max_depth= 10,\n",
    "                    min_child_weight= 1,\n",
    "                    n_estimators= 10,\n",
    "                    nthread= 4,\n",
    "                    random_state= 2,\n",
    "                    silent= True)\n",
    "classifier.fit(train_X, train_y)\n",
    "print(classifier.score(val_X, val_y))"
   ]
  },
  {
   "cell_type": "code",
   "execution_count": 17,
   "metadata": {},
   "outputs": [],
   "source": [
    "predictions = classifier.predict(test_X)\n",
    "\n",
    "pid = test_df['PassengerId'].to_numpy()\n",
    "submission = pd.DataFrame(np.stack((pid, predictions), axis = -1), columns = ['PassengerId', 'Survived'])\n",
    "submission.to_csv('./data/xgb_submission.csv', index = False)"
   ]
  },
  {
   "cell_type": "markdown",
   "metadata": {},
   "source": [
    "## Classify on test data using all training data!"
   ]
  },
  {
   "cell_type": "code",
   "execution_count": 18,
   "metadata": {},
   "outputs": [],
   "source": [
    "classifier = XGBClassifier(colsample_bylevel= 0.9,\n",
    "                    colsample_bytree = 0.8, \n",
    "                    gamma=0.99,\n",
    "                    max_depth= 5,\n",
    "                    min_child_weight= 1,\n",
    "                    n_estimators= 10,\n",
    "                    nthread= 4,\n",
    "                    random_state= 2,\n",
    "                    silent= True)\n",
    "classifier.fit(data_X, data_y)\n",
    "predictions = classifier.predict(test_X)\n",
    "\n",
    "pid = test_df['PassengerId'].to_numpy()\n",
    "submission = pd.DataFrame(np.stack((pid, predictions), axis = -1), columns = ['PassengerId', 'Survived'])\n",
    "submission.to_csv('./data/xgb_submission.csv', index = False)"
   ]
  },
  {
   "cell_type": "markdown",
   "metadata": {},
   "source": [
    "# Neural Network"
   ]
  },
  {
   "cell_type": "code",
   "execution_count": 19,
   "metadata": {},
   "outputs": [
    {
     "name": "stderr",
     "output_type": "stream",
     "text": [
      "C:\\Users\\oskar\\Anaconda3\\envs\\machine_learning\\lib\\site-packages\\pandas\\core\\frame.py:4117: SettingWithCopyWarning: \n",
      "A value is trying to be set on a copy of a slice from a DataFrame\n",
      "\n",
      "See the caveats in the documentation: http://pandas.pydata.org/pandas-docs/stable/user_guide/indexing.html#returning-a-view-versus-a-copy\n",
      "  errors=errors,\n"
     ]
    }
   ],
   "source": [
    "from sklearn.model_selection import train_test_split\n",
    "features = ['Pclass', 'Sex', 'Age', 'Fare', 'Title', 'Family', 'Embarked', 'Cabin']\n",
    "\n",
    "data_df = joint_df.loc[joint_df['Survived'].notnull()]\n",
    "test_df = joint_df.loc[joint_df['Survived'].isnull()]\n",
    "\n",
    "data_df = data_df.astype({'Survived': np.int32})\n",
    "test_df.drop('Survived', axis = 1, inplace = True)\n",
    "\n",
    "train_df, val_df = train_test_split(data_df)\n",
    "train_X = train_df[features]\n",
    "train_y = train_df['Survived']\n",
    "\n",
    "val_X = val_df[features]\n",
    "val_y = val_df['Survived']\n",
    "\n",
    "data_X = data_df[features]\n",
    "data_y = data_df['Survived']\n",
    "\n",
    "test_X = test_df[features]"
   ]
  },
  {
   "cell_type": "code",
   "execution_count": 25,
   "metadata": {},
   "outputs": [
    {
     "name": "stdout",
     "output_type": "stream",
     "text": [
      "WARNING:tensorflow:Falling back from v2 loop because of error: Failed to find data adapter that can handle input: <class 'pandas.core.frame.DataFrame'>, <class 'NoneType'>\n",
      "WARNING:tensorflow:Falling back from v2 loop because of error: Failed to find data adapter that can handle input: <class 'pandas.core.frame.DataFrame'>, <class 'NoneType'>\n",
      "Prediction accuracy: 0.8026905829596412\n"
     ]
    }
   ],
   "source": [
    "import tensorflow.keras as keras\n",
    "model = keras.Sequential()\n",
    "model.add(keras.layers.Dense(units = 12, input_dim = 8, activation = 'relu'))\n",
    "model.add(keras.layers.Dense(units = 24, activation = 'relu'))\n",
    "model.add(keras.layers.Dense(units = 32, activation = 'relu'))\n",
    "model.add(keras.layers.Dense(units = 12, activation = 'relu'))\n",
    "model.add(keras.layers.Dense(units = 1, activation = 'sigmoid'))\n",
    "\n",
    "model.compile(loss = 'mean_squared_error', optimizer = 'adam')\n",
    "\n",
    "history = model.fit(train_X, train_y, epochs = 200, validation_data = (val_X, val_y), verbose = False)\n",
    "\n",
    "predictions = np.heaviside(model.predict(val_X) - 0.5, 0).flatten()\n",
    "\n",
    "survived = val_y.to_numpy()\n",
    "print('Prediction accuracy:',np.sum(predictions == survived)/predictions.shape[0])"
   ]
  },
  {
   "cell_type": "code",
   "execution_count": 26,
   "metadata": {},
   "outputs": [
    {
     "data": {
      "image/png": "[encoded data removed]",
      "text/plain": [
       "<Figure size 432x288 with 1 Axes>"
      ]
     },
     "metadata": {
      "needs_background": "light"
     },
     "output_type": "display_data"
    }
   ],
   "source": [
    "val_loss = np.array(history.history['val_loss'])\n",
    "\n",
    "plt.plot(np.arange(0, val_loss.shape[0]), val_loss)\n",
    "plt.show()"
   ]
  },
  {
   "cell_type": "code",
   "execution_count": 24,
   "metadata": {},
   "outputs": [
    {
     "name": "stdout",
     "output_type": "stream",
     "text": [
      "WARNING:tensorflow:Falling back from v2 loop because of error: Failed to find data adapter that can handle input: <class 'pandas.core.frame.DataFrame'>, <class 'NoneType'>\n",
      "WARNING:tensorflow:Falling back from v2 loop because of error: Failed to find data adapter that can handle input: <class 'pandas.core.frame.DataFrame'>, <class 'NoneType'>\n"
     ]
    }
   ],
   "source": [
    "model = keras.Sequential()\n",
    "model.add(keras.layers.Dense(units = 12, input_dim = 8, activation = 'relu'))\n",
    "model.add(keras.layers.Dense(units = 8, activation = 'relu'))\n",
    "model.add(keras.layers.Dense(units = 8, activation = 'relu'))\n",
    "model.add(keras.layers.Dense(units = 8, activation = 'relu'))\n",
    "model.add(keras.layers.Dense(units = 8, activation = 'relu'))\n",
    "model.add(keras.layers.Dense(units = 1, activation = 'sigmoid'))\n",
    "\n",
    "model.compile(loss = 'mean_squared_error', optimizer = 'adam')\n",
    "\n",
    "history = model.fit(data_X, data_y, epochs = 500, verbose = False)\n",
    "\n",
    "predictions = np.heaviside(model.predict(test_X) - 0.5, 0).flatten().astype(np.int32)\n",
    "\n",
    "pid = test_df['PassengerId'].to_numpy()\n",
    "submission = pd.DataFrame(np.stack((pid, predictions), axis = -1), columns = ['PassengerId', 'Survived'])\n",
    "submission.to_csv('./data/NN_submission.csv', index = False)"
   ]
  }
 ],
 "metadata": {
  "hide_input": false,
  "kernelspec": {
   "display_name": "Python 3",
   "language": "python",
   "name": "python3"
  },
  "language_info": {
   "codemirror_mode": {
    "name": "ipython",
    "version": 3
   },
   "file_extension": ".py",
   "mimetype": "text/x-python",
   "name": "python",
   "nbconvert_exporter": "python",
   "pygments_lexer": "ipython3",
   "version": "3.6.4"
  },
  "toc": {
   "base_numbering": 1,
   "nav_menu": {},
   "number_sections": true,
   "sideBar": true,
   "skip_h1_title": false,
   "title_cell": "Table of Contents",
   "title_sidebar": "Contents",
   "toc_cell": false,
   "toc_position": {},
   "toc_section_display": true,
   "toc_window_display": false
  },
  "toc-autonumbering": false,
  "toc-showmarkdowntxt": false,
  "toc-showtags": false,
  "varInspector": {
   "cols": {
    "lenName": 16,
    "lenType": 16,
    "lenVar": 40
   },
   "kernels_config": {
    "python": {
     "delete_cmd_postfix": "",
     "delete_cmd_prefix": "del ",
     "library": "var_list.py",
     "varRefreshCmd": "print(var_dic_list())"
    },
    "r": {
     "delete_cmd_postfix": ") ",
     "delete_cmd_prefix": "rm(",
     "library": "var_list.r",
     "varRefreshCmd": "cat(var_dic_list()) "
    }
   },
   "types_to_exclude": [
    "module",
    "function",
    "builtin_function_or_method",
    "instance",
    "_Feature"
   ],
   "window_display": false
  }
 },
 "nbformat": 4,
 "nbformat_minor": 4
}
